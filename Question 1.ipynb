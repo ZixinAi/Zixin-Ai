{
 "cells": [
  {
   "cell_type": "code",
   "execution_count": 1,
   "id": "3aa029d2",
   "metadata": {},
   "outputs": [
    {
     "name": "stdout",
     "output_type": "stream",
     "text": [
      "Requirement already satisfied: yfinance in /Users/aizixin/anaconda3/lib/python3.11/site-packages (0.2.31)\n",
      "Requirement already satisfied: pandas>=1.3.0 in /Users/aizixin/anaconda3/lib/python3.11/site-packages (from yfinance) (2.0.3)\n",
      "Requirement already satisfied: numpy>=1.16.5 in /Users/aizixin/anaconda3/lib/python3.11/site-packages (from yfinance) (1.24.3)\n",
      "Requirement already satisfied: requests>=2.31 in /Users/aizixin/anaconda3/lib/python3.11/site-packages (from yfinance) (2.31.0)\n",
      "Requirement already satisfied: multitasking>=0.0.7 in /Users/aizixin/anaconda3/lib/python3.11/site-packages (from yfinance) (0.0.11)\n",
      "Requirement already satisfied: lxml>=4.9.1 in /Users/aizixin/anaconda3/lib/python3.11/site-packages (from yfinance) (4.9.3)\n",
      "Requirement already satisfied: appdirs>=1.4.4 in /Users/aizixin/anaconda3/lib/python3.11/site-packages (from yfinance) (1.4.4)\n",
      "Requirement already satisfied: pytz>=2022.5 in /Users/aizixin/anaconda3/lib/python3.11/site-packages (from yfinance) (2023.3.post1)\n",
      "Requirement already satisfied: frozendict>=2.3.4 in /Users/aizixin/anaconda3/lib/python3.11/site-packages (from yfinance) (2.3.8)\n",
      "Requirement already satisfied: peewee>=3.16.2 in /Users/aizixin/anaconda3/lib/python3.11/site-packages (from yfinance) (3.16.3)\n",
      "Requirement already satisfied: beautifulsoup4>=4.11.1 in /Users/aizixin/anaconda3/lib/python3.11/site-packages (from yfinance) (4.12.2)\n",
      "Requirement already satisfied: html5lib>=1.1 in /Users/aizixin/anaconda3/lib/python3.11/site-packages (from yfinance) (1.1)\n",
      "Requirement already satisfied: soupsieve>1.2 in /Users/aizixin/anaconda3/lib/python3.11/site-packages (from beautifulsoup4>=4.11.1->yfinance) (2.4)\n",
      "Requirement already satisfied: six>=1.9 in /Users/aizixin/anaconda3/lib/python3.11/site-packages (from html5lib>=1.1->yfinance) (1.16.0)\n",
      "Requirement already satisfied: webencodings in /Users/aizixin/anaconda3/lib/python3.11/site-packages (from html5lib>=1.1->yfinance) (0.5.1)\n",
      "Requirement already satisfied: python-dateutil>=2.8.2 in /Users/aizixin/anaconda3/lib/python3.11/site-packages (from pandas>=1.3.0->yfinance) (2.8.2)\n",
      "Requirement already satisfied: tzdata>=2022.1 in /Users/aizixin/anaconda3/lib/python3.11/site-packages (from pandas>=1.3.0->yfinance) (2023.3)\n",
      "Requirement already satisfied: charset-normalizer<4,>=2 in /Users/aizixin/anaconda3/lib/python3.11/site-packages (from requests>=2.31->yfinance) (2.0.4)\n",
      "Requirement already satisfied: idna<4,>=2.5 in /Users/aizixin/anaconda3/lib/python3.11/site-packages (from requests>=2.31->yfinance) (3.4)\n",
      "Requirement already satisfied: urllib3<3,>=1.21.1 in /Users/aizixin/anaconda3/lib/python3.11/site-packages (from requests>=2.31->yfinance) (1.26.16)\n",
      "Requirement already satisfied: certifi>=2017.4.17 in /Users/aizixin/anaconda3/lib/python3.11/site-packages (from requests>=2.31->yfinance) (2023.7.22)\n",
      "Note: you may need to restart the kernel to use updated packages.\n"
     ]
    }
   ],
   "source": [
    "pip install yfinance"
   ]
  },
  {
   "cell_type": "code",
   "execution_count": 2,
   "id": "d72db2e4",
   "metadata": {},
   "outputs": [],
   "source": [
    "import pandas as pd\n",
    "import yfinance as yf\n",
    "import numpy as np\n",
    "import matplotlib.pyplot as plt\n",
    "import requests"
   ]
  },
  {
   "cell_type": "markdown",
   "id": "d5e5a1de",
   "metadata": {},
   "source": [
    "# Task 1: Download Monthly Stock Price Data"
   ]
  },
  {
   "cell_type": "code",
   "execution_count": 3,
   "id": "a32169b4",
   "metadata": {},
   "outputs": [
    {
     "name": "stdout",
     "output_type": "stream",
     "text": [
      "[*********************100%%**********************]  1 of 1 completed\n"
     ]
    }
   ],
   "source": [
    "apple_data = yf.download('AAPL', start='2015-01-01', end='2019-12-31')"
   ]
  },
  {
   "cell_type": "markdown",
   "id": "94a374ec",
   "metadata": {},
   "source": [
    "# Task 2: Calculate Monthly Log Returns and Annualised Return"
   ]
  },
  {
   "cell_type": "code",
   "execution_count": 4,
   "id": "e32c7b87",
   "metadata": {},
   "outputs": [],
   "source": [
    "apple_data['Log_Return'] = np.log(apple_data['Adj Close'] / apple_data['Adj Close'].shift(1))\n",
    "monthly_avg_log_return = apple_data['Log_Return'].mean()\n",
    "annualized_return = ((1 + monthly_avg_log_return) ** 12) - 1"
   ]
  },
  {
   "cell_type": "markdown",
   "id": "fc5aa25f",
   "metadata": {},
   "source": [
    "# Task 3: Calculate Annualised Volatility"
   ]
  },
  {
   "cell_type": "code",
   "execution_count": 5,
   "id": "4bd471d1",
   "metadata": {},
   "outputs": [],
   "source": [
    "annualized_volatility = apple_data['Log_Return'].std() * np.sqrt(12)"
   ]
  },
  {
   "cell_type": "markdown",
   "id": "a9a765a0",
   "metadata": {},
   "source": [
    "\n",
    "# Task 4: Dowload ESG Data and Handle Missing Values"
   ]
  },
  {
   "cell_type": "code",
   "execution_count": 6,
   "id": "1c36044e",
   "metadata": {},
   "outputs": [
    {
     "name": "stdout",
     "output_type": "stream",
     "text": [
      "Requirement already satisfied: yesg in /Users/aizixin/anaconda3/lib/python3.11/site-packages (2.1.1)\n",
      "Note: you may need to restart the kernel to use updated packages.\n"
     ]
    }
   ],
   "source": [
    "pip install yesg"
   ]
  },
  {
   "cell_type": "code",
   "execution_count": 7,
   "id": "38c009bb",
   "metadata": {},
   "outputs": [],
   "source": [
    "import yesg"
   ]
  },
  {
   "cell_type": "markdown",
   "id": "a67edd32",
   "metadata": {},
   "source": [
    "Step 1: Download ESG data dor AAPL"
   ]
  },
  {
   "cell_type": "code",
   "execution_count": 8,
   "id": "ea24978c",
   "metadata": {},
   "outputs": [
    {
     "data": {
      "text/html": [
       "<div>\n",
       "<style scoped>\n",
       "    .dataframe tbody tr th:only-of-type {\n",
       "        vertical-align: middle;\n",
       "    }\n",
       "\n",
       "    .dataframe tbody tr th {\n",
       "        vertical-align: top;\n",
       "    }\n",
       "\n",
       "    .dataframe thead th {\n",
       "        text-align: right;\n",
       "    }\n",
       "</style>\n",
       "<table border=\"1\" class=\"dataframe\">\n",
       "  <thead>\n",
       "    <tr style=\"text-align: right;\">\n",
       "      <th></th>\n",
       "      <th>Total-Score</th>\n",
       "      <th>E-Score</th>\n",
       "      <th>S-Score</th>\n",
       "      <th>G-Score</th>\n",
       "    </tr>\n",
       "    <tr>\n",
       "      <th>Date</th>\n",
       "      <th></th>\n",
       "      <th></th>\n",
       "      <th></th>\n",
       "      <th></th>\n",
       "    </tr>\n",
       "  </thead>\n",
       "  <tbody>\n",
       "    <tr>\n",
       "      <th>2014-09-01</th>\n",
       "      <td>61.00</td>\n",
       "      <td>74.00</td>\n",
       "      <td>45.00</td>\n",
       "      <td>62.00</td>\n",
       "    </tr>\n",
       "    <tr>\n",
       "      <th>2014-10-01</th>\n",
       "      <td>60.00</td>\n",
       "      <td>74.00</td>\n",
       "      <td>45.00</td>\n",
       "      <td>62.00</td>\n",
       "    </tr>\n",
       "    <tr>\n",
       "      <th>2014-11-01</th>\n",
       "      <td>61.00</td>\n",
       "      <td>74.00</td>\n",
       "      <td>45.00</td>\n",
       "      <td>62.00</td>\n",
       "    </tr>\n",
       "    <tr>\n",
       "      <th>2014-12-01</th>\n",
       "      <td>61.00</td>\n",
       "      <td>74.00</td>\n",
       "      <td>45.00</td>\n",
       "      <td>62.00</td>\n",
       "    </tr>\n",
       "    <tr>\n",
       "      <th>2015-01-01</th>\n",
       "      <td>61.00</td>\n",
       "      <td>74.00</td>\n",
       "      <td>45.00</td>\n",
       "      <td>62.00</td>\n",
       "    </tr>\n",
       "    <tr>\n",
       "      <th>...</th>\n",
       "      <td>...</td>\n",
       "      <td>...</td>\n",
       "      <td>...</td>\n",
       "      <td>...</td>\n",
       "    </tr>\n",
       "    <tr>\n",
       "      <th>2022-04-01</th>\n",
       "      <td>NaN</td>\n",
       "      <td>NaN</td>\n",
       "      <td>NaN</td>\n",
       "      <td>NaN</td>\n",
       "    </tr>\n",
       "    <tr>\n",
       "      <th>2022-05-01</th>\n",
       "      <td>16.41</td>\n",
       "      <td>0.65</td>\n",
       "      <td>6.86</td>\n",
       "      <td>8.90</td>\n",
       "    </tr>\n",
       "    <tr>\n",
       "      <th>2022-06-01</th>\n",
       "      <td>NaN</td>\n",
       "      <td>NaN</td>\n",
       "      <td>NaN</td>\n",
       "      <td>NaN</td>\n",
       "    </tr>\n",
       "    <tr>\n",
       "      <th>2022-07-01</th>\n",
       "      <td>NaN</td>\n",
       "      <td>NaN</td>\n",
       "      <td>NaN</td>\n",
       "      <td>NaN</td>\n",
       "    </tr>\n",
       "    <tr>\n",
       "      <th>2022-08-01</th>\n",
       "      <td>16.68</td>\n",
       "      <td>0.65</td>\n",
       "      <td>6.86</td>\n",
       "      <td>9.18</td>\n",
       "    </tr>\n",
       "  </tbody>\n",
       "</table>\n",
       "<p>96 rows × 4 columns</p>\n",
       "</div>"
      ],
      "text/plain": [
       "            Total-Score  E-Score  S-Score  G-Score\n",
       "Date                                              \n",
       "2014-09-01        61.00    74.00    45.00    62.00\n",
       "2014-10-01        60.00    74.00    45.00    62.00\n",
       "2014-11-01        61.00    74.00    45.00    62.00\n",
       "2014-12-01        61.00    74.00    45.00    62.00\n",
       "2015-01-01        61.00    74.00    45.00    62.00\n",
       "...                 ...      ...      ...      ...\n",
       "2022-04-01          NaN      NaN      NaN      NaN\n",
       "2022-05-01        16.41     0.65     6.86     8.90\n",
       "2022-06-01          NaN      NaN      NaN      NaN\n",
       "2022-07-01          NaN      NaN      NaN      NaN\n",
       "2022-08-01        16.68     0.65     6.86     9.18\n",
       "\n",
       "[96 rows x 4 columns]"
      ]
     },
     "execution_count": 8,
     "metadata": {},
     "output_type": "execute_result"
    }
   ],
   "source": [
    "ESG = yesg.get_historic_esg('AAPL')\n",
    "ESG"
   ]
  },
  {
   "cell_type": "markdown",
   "id": "96dd3316",
   "metadata": {},
   "source": [
    "Step 2: Handle missing values"
   ]
  },
  {
   "cell_type": "code",
   "execution_count": 9,
   "id": "2eb78f0f",
   "metadata": {},
   "outputs": [
    {
     "name": "stderr",
     "output_type": "stream",
     "text": [
      "/var/folders/tw/2hxkj_xn3252tw7fdg_sj53m0000gn/T/ipykernel_19059/2012856212.py:1: UserWarning: Pandas doesn't allow columns to be created via a new attribute name - see https://pandas.pydata.org/pandas-docs/stable/indexing.html#attribute-access\n",
      "  ESG.new = pd.DataFrame.dropna(ESG)\n"
     ]
    },
    {
     "data": {
      "text/html": [
       "<div>\n",
       "<style scoped>\n",
       "    .dataframe tbody tr th:only-of-type {\n",
       "        vertical-align: middle;\n",
       "    }\n",
       "\n",
       "    .dataframe tbody tr th {\n",
       "        vertical-align: top;\n",
       "    }\n",
       "\n",
       "    .dataframe thead th {\n",
       "        text-align: right;\n",
       "    }\n",
       "</style>\n",
       "<table border=\"1\" class=\"dataframe\">\n",
       "  <thead>\n",
       "    <tr style=\"text-align: right;\">\n",
       "      <th></th>\n",
       "      <th>Total-Score</th>\n",
       "      <th>E-Score</th>\n",
       "      <th>S-Score</th>\n",
       "      <th>G-Score</th>\n",
       "    </tr>\n",
       "    <tr>\n",
       "      <th>Date</th>\n",
       "      <th></th>\n",
       "      <th></th>\n",
       "      <th></th>\n",
       "      <th></th>\n",
       "    </tr>\n",
       "  </thead>\n",
       "  <tbody>\n",
       "    <tr>\n",
       "      <th>2014-09-01</th>\n",
       "      <td>61.00</td>\n",
       "      <td>74.00</td>\n",
       "      <td>45.00</td>\n",
       "      <td>62.00</td>\n",
       "    </tr>\n",
       "    <tr>\n",
       "      <th>2014-10-01</th>\n",
       "      <td>60.00</td>\n",
       "      <td>74.00</td>\n",
       "      <td>45.00</td>\n",
       "      <td>62.00</td>\n",
       "    </tr>\n",
       "    <tr>\n",
       "      <th>2014-11-01</th>\n",
       "      <td>61.00</td>\n",
       "      <td>74.00</td>\n",
       "      <td>45.00</td>\n",
       "      <td>62.00</td>\n",
       "    </tr>\n",
       "    <tr>\n",
       "      <th>2014-12-01</th>\n",
       "      <td>61.00</td>\n",
       "      <td>74.00</td>\n",
       "      <td>45.00</td>\n",
       "      <td>62.00</td>\n",
       "    </tr>\n",
       "    <tr>\n",
       "      <th>2015-01-01</th>\n",
       "      <td>61.00</td>\n",
       "      <td>74.00</td>\n",
       "      <td>45.00</td>\n",
       "      <td>62.00</td>\n",
       "    </tr>\n",
       "    <tr>\n",
       "      <th>...</th>\n",
       "      <td>...</td>\n",
       "      <td>...</td>\n",
       "      <td>...</td>\n",
       "      <td>...</td>\n",
       "    </tr>\n",
       "    <tr>\n",
       "      <th>2021-05-01</th>\n",
       "      <td>16.92</td>\n",
       "      <td>0.29</td>\n",
       "      <td>7.69</td>\n",
       "      <td>8.94</td>\n",
       "    </tr>\n",
       "    <tr>\n",
       "      <th>2021-09-01</th>\n",
       "      <td>16.92</td>\n",
       "      <td>0.29</td>\n",
       "      <td>7.99</td>\n",
       "      <td>8.64</td>\n",
       "    </tr>\n",
       "    <tr>\n",
       "      <th>2022-02-01</th>\n",
       "      <td>16.27</td>\n",
       "      <td>0.65</td>\n",
       "      <td>6.86</td>\n",
       "      <td>8.76</td>\n",
       "    </tr>\n",
       "    <tr>\n",
       "      <th>2022-05-01</th>\n",
       "      <td>16.41</td>\n",
       "      <td>0.65</td>\n",
       "      <td>6.86</td>\n",
       "      <td>8.90</td>\n",
       "    </tr>\n",
       "    <tr>\n",
       "      <th>2022-08-01</th>\n",
       "      <td>16.68</td>\n",
       "      <td>0.65</td>\n",
       "      <td>6.86</td>\n",
       "      <td>9.18</td>\n",
       "    </tr>\n",
       "  </tbody>\n",
       "</table>\n",
       "<p>78 rows × 4 columns</p>\n",
       "</div>"
      ],
      "text/plain": [
       "            Total-Score  E-Score  S-Score  G-Score\n",
       "Date                                              \n",
       "2014-09-01        61.00    74.00    45.00    62.00\n",
       "2014-10-01        60.00    74.00    45.00    62.00\n",
       "2014-11-01        61.00    74.00    45.00    62.00\n",
       "2014-12-01        61.00    74.00    45.00    62.00\n",
       "2015-01-01        61.00    74.00    45.00    62.00\n",
       "...                 ...      ...      ...      ...\n",
       "2021-05-01        16.92     0.29     7.69     8.94\n",
       "2021-09-01        16.92     0.29     7.99     8.64\n",
       "2022-02-01        16.27     0.65     6.86     8.76\n",
       "2022-05-01        16.41     0.65     6.86     8.90\n",
       "2022-08-01        16.68     0.65     6.86     9.18\n",
       "\n",
       "[78 rows x 4 columns]"
      ]
     },
     "execution_count": 9,
     "metadata": {},
     "output_type": "execute_result"
    }
   ],
   "source": [
    "ESG.new = pd.DataFrame.dropna(ESG)\n",
    "ESG.new"
   ]
  },
  {
   "cell_type": "markdown",
   "id": "664422f9",
   "metadata": {},
   "source": [
    "# Task 5: Calculate and Analyse the Correlation between Stock Price and ESG"
   ]
  },
  {
   "cell_type": "code",
   "execution_count": 10,
   "id": "49f69eca",
   "metadata": {},
   "outputs": [],
   "source": [
    "correlation = apple_data['Adj Close'].corr(ESG.new['Total-Score'])"
   ]
  },
  {
   "cell_type": "markdown",
   "id": "99e1fa29",
   "metadata": {},
   "source": [
    "# Print the results"
   ]
  },
  {
   "cell_type": "code",
   "execution_count": 11,
   "id": "864c2747",
   "metadata": {},
   "outputs": [
    {
     "name": "stdout",
     "output_type": "stream",
     "text": [
      "Annualized Return: 0.0102\n",
      "Annualized Volatility: 0.0543\n",
      "Correlation between Stock Price and ESG Total Score: 0.8976\n"
     ]
    }
   ],
   "source": [
    "print(f\"Annualized Return: {annualized_return:.4f}\")\n",
    "print(f\"Annualized Volatility: {annualized_volatility:.4f}\")\n",
    "print(f\"Correlation between Stock Price and ESG Total Score: {correlation:.4f}\")"
   ]
  }
 ],
 "metadata": {
  "kernelspec": {
   "display_name": "Python 3 (ipykernel)",
   "language": "python",
   "name": "python3"
  },
  "language_info": {
   "codemirror_mode": {
    "name": "ipython",
    "version": 3
   },
   "file_extension": ".py",
   "mimetype": "text/x-python",
   "name": "python",
   "nbconvert_exporter": "python",
   "pygments_lexer": "ipython3",
   "version": "3.11.5"
  }
 },
 "nbformat": 4,
 "nbformat_minor": 5
}
